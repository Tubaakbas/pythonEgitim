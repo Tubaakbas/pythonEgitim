{
 "cells": [
  {
   "metadata": {},
   "cell_type": "markdown",
   "source": [
    "# Pyton 101 Eğitimi\n",
    "\n",
    "Python Nedir?\n",
    "- Tıpkı diğer programlama dilleri gibi insanların düşündüklerini bilgisayarlara yaptırmak için kullandıığı proglama dillerinden bir tanesidir.\n",
    "\n",
    "Neden Python?\n",
    "- Dünyadaki büyük şirketlerin kullandığı bir programlama dilidir.\n",
    "- Veri Bilimi ve AI alanlarında en çok tercih edilen dillerden biridir.\n",
    "- Daha az çaba ile daha çok iş yapılabildiği için yüksek seviyeli bir programlama dilidir.\n",
    "\n",
    "PyCharm\n",
    "- Python IDE'sidir.\n",
    "- IDE(Tümleşik Geliştirme Ortamı), progralama dillerini kullanırken işlerimizi kolaylaştıran arayüzledir."
   ],
   "id": "8a77807f92f26ee"
  },
  {
   "metadata": {
    "ExecuteTime": {
     "end_time": "2025-03-14T18:29:12.582051Z",
     "start_time": "2025-03-14T18:29:12.563962Z"
    }
   },
   "cell_type": "code",
   "source": "print(\"Hello World!\")",
   "id": "fbc121e30a2defb3",
   "outputs": [
    {
     "name": "stdout",
     "output_type": "stream",
     "text": [
      "Hello World!\n"
     ]
    }
   ],
   "execution_count": 1
  },
  {
   "metadata": {},
   "cell_type": "markdown",
   "source": [
    "# Temel Veri Türleri\n",
    "\n",
    "int (Tam Sayılar)\n",
    "- Kesikli değerler içerir. x = 10\n",
    "- yaş, öğrenci, sayısı, yıl gibi"
   ],
   "id": "9e75c742fdf2efa2"
  },
  {
   "metadata": {
    "ExecuteTime": {
     "end_time": "2025-03-14T18:51:29.901017Z",
     "start_time": "2025-03-14T18:51:29.882776Z"
    }
   },
   "cell_type": "code",
   "source": "9",
   "id": "7a95eeea0d88482",
   "outputs": [
    {
     "data": {
      "text/plain": [
       "9"
      ]
     },
     "execution_count": 7,
     "metadata": {},
     "output_type": "execute_result"
    }
   ],
   "execution_count": 7
  },
  {
   "metadata": {
    "ExecuteTime": {
     "end_time": "2025-03-14T18:44:46.478115Z",
     "start_time": "2025-03-14T18:44:46.462041Z"
    }
   },
   "cell_type": "code",
   "source": [
    "ogrencinin_yasi = 22\n",
    "print(ogrencinin_yasi)"
   ],
   "id": "97aa026710597b43",
   "outputs": [
    {
     "name": "stdout",
     "output_type": "stream",
     "text": [
      "22\n"
     ]
    }
   ],
   "execution_count": 4
  },
  {
   "metadata": {},
   "cell_type": "markdown",
   "source": [
    "float (Ondalıklı Sayılar)\n",
    "- Sürekli değerler içerir. pi = 3.14, temp= -2.5\n",
    "- boy uzunluğu, sıcaklık değeri, ağırlık gibi\n",
    "- İki float değer arasında sonsuz tane ara değer bulunabilir. (1.0 - 1.1 - 1.2 - 1.3 - ... - 2.0)"
   ],
   "id": "9cf8b92a95b6997f"
  },
  {
   "metadata": {
    "ExecuteTime": {
     "end_time": "2025-03-14T18:37:03.514731Z",
     "start_time": "2025-03-14T18:37:03.493796Z"
    }
   },
   "cell_type": "code",
   "source": "9.2",
   "id": "a6fb0ad9945e8114",
   "outputs": [
    {
     "data": {
      "text/plain": [
       "9.2"
      ]
     },
     "execution_count": 3,
     "metadata": {},
     "output_type": "execute_result"
    }
   ],
   "execution_count": 3
  },
  {
   "metadata": {
    "ExecuteTime": {
     "end_time": "2025-03-14T19:01:33.596369Z",
     "start_time": "2025-03-14T19:01:33.583420Z"
    }
   },
   "cell_type": "code",
   "source": "type(9.2)",
   "id": "c80be13d2374a2f1",
   "outputs": [
    {
     "data": {
      "text/plain": [
       "float"
      ]
     },
     "execution_count": 16,
     "metadata": {},
     "output_type": "execute_result"
    }
   ],
   "execution_count": 16
  },
  {
   "metadata": {
    "ExecuteTime": {
     "end_time": "2025-03-14T18:47:30.412590Z",
     "start_time": "2025-03-14T18:47:30.394006Z"
    }
   },
   "cell_type": "code",
   "source": [
    "height = 58.3\n",
    "print(\"Yükseklik = \", height)"
   ],
   "id": "545ddb17a6d47a84",
   "outputs": [
    {
     "name": "stdout",
     "output_type": "stream",
     "text": [
      "Kilo =  58.3\n"
     ]
    }
   ],
   "execution_count": 5
  },
  {
   "metadata": {},
   "cell_type": "markdown",
   "source": [
    "complex (Karmaşık Sayılar - Complex Numbers)\n",
    "- Matematikteki gerçek (real) ve sanal (imaginary) kısmı olan sayılar\n",
    "- Örnek: z = 3 + 4j\n",
    "- Elektrik mühendisliği, sinyal işleme gibi alanlarda kullanılır."
   ],
   "id": "bac1670bdb9cd188"
  },
  {
   "metadata": {},
   "cell_type": "markdown",
   "source": [
    "bool (Mantıksal Değer - Boolean)\n",
    "- Sadece iki değer alır: True (Doğru) veya False (Yanlış)\n",
    "- Örnek: is_student = True\n",
    "- Karar yapılarında kullanılır (if-else gibi)"
   ],
   "id": "e14991c4341a5074"
  },
  {
   "metadata": {
    "ExecuteTime": {
     "end_time": "2025-03-14T18:50:45.910966Z",
     "start_time": "2025-03-14T18:50:45.895377Z"
    }
   },
   "cell_type": "code",
   "source": [
    "age = 15\n",
    "\n",
    "is_adult = age >= 18 # Yaş 18 veya daha büyükse True, değilse False \n",
    "\n",
    "if is_adult:\n",
    "    print(\"Ehliyet Alabilir\")  \n",
    "else:\n",
    "    print(\"Ehliyet alamaz\")"
   ],
   "id": "82ae56a9e7b5e869",
   "outputs": [
    {
     "name": "stdout",
     "output_type": "stream",
     "text": [
      "Ehliyet alamaz\n"
     ]
    }
   ],
   "execution_count": 6
  },
  {
   "metadata": {
    "ExecuteTime": {
     "end_time": "2025-03-14T19:02:07.733811Z",
     "start_time": "2025-03-14T19:02:07.717806Z"
    }
   },
   "cell_type": "code",
   "source": "type(is_adult)",
   "id": "8548d2870db34601",
   "outputs": [
    {
     "data": {
      "text/plain": [
       "bool"
      ]
     },
     "execution_count": 17,
     "metadata": {},
     "output_type": "execute_result"
    }
   ],
   "execution_count": 17
  },
  {
   "metadata": {},
   "cell_type": "markdown",
   "source": [
    "str (Metin - String)\n",
    "- Karakterlerden oluşan diziler\n",
    "- Örnek: name = \"Asya\", message = \"Hello, World!\"\n",
    "- Metin işlemlerinde kullanılır"
   ],
   "id": "407cc90d653684d"
  },
  {
   "metadata": {
    "ExecuteTime": {
     "end_time": "2025-03-14T19:13:32.196681Z",
     "start_time": "2025-03-14T19:13:32.183252Z"
    }
   },
   "cell_type": "code",
   "source": "\"a\" + \"b\"",
   "id": "c3a466f4400cd3c6",
   "outputs": [
    {
     "data": {
      "text/plain": [
       "'ab'"
      ]
     },
     "execution_count": 28,
     "metadata": {},
     "output_type": "execute_result"
    }
   ],
   "execution_count": 28
  },
  {
   "metadata": {
    "ExecuteTime": {
     "end_time": "2025-03-14T19:13:40.294571Z",
     "start_time": "2025-03-14T19:13:40.278406Z"
    }
   },
   "cell_type": "code",
   "source": "\"a\" \"b\"",
   "id": "40503adca3ce811d",
   "outputs": [
    {
     "data": {
      "text/plain": [
       "'ab'"
      ]
     },
     "execution_count": 29,
     "metadata": {},
     "output_type": "execute_result"
    }
   ],
   "execution_count": 29
  },
  {
   "metadata": {
    "ExecuteTime": {
     "end_time": "2025-03-14T19:13:57.186545Z",
     "start_time": "2025-03-14T19:13:57.162736Z"
    }
   },
   "cell_type": "code",
   "source": "\"a \" \"b\"",
   "id": "b650656c6c612340",
   "outputs": [
    {
     "data": {
      "text/plain": [
       "'a b'"
      ]
     },
     "execution_count": 30,
     "metadata": {},
     "output_type": "execute_result"
    }
   ],
   "execution_count": 30
  },
  {
   "metadata": {
    "ExecuteTime": {
     "end_time": "2025-03-14T19:14:05.998185Z",
     "start_time": "2025-03-14T19:14:05.984244Z"
    }
   },
   "cell_type": "code",
   "source": "\"a\" \"-b\"",
   "id": "98e373c78ce72f9f",
   "outputs": [
    {
     "data": {
      "text/plain": [
       "'a-b'"
      ]
     },
     "execution_count": 31,
     "metadata": {},
     "output_type": "execute_result"
    }
   ],
   "execution_count": 31
  },
  {
   "metadata": {
    "ExecuteTime": {
     "end_time": "2025-03-14T19:14:55.620502Z",
     "start_time": "2025-03-14T19:14:55.613499Z"
    }
   },
   "cell_type": "code",
   "source": "\"a\"*3",
   "id": "297bf2b5e9cc5e9",
   "outputs": [
    {
     "data": {
      "text/plain": [
       "'aaa'"
      ]
     },
     "execution_count": 33,
     "metadata": {},
     "output_type": "execute_result"
    }
   ],
   "execution_count": 33
  },
  {
   "metadata": {
    "ExecuteTime": {
     "end_time": "2025-03-14T19:15:16.660347Z",
     "start_time": "2025-03-14T19:15:16.636264Z"
    }
   },
   "cell_type": "code",
   "source": "\"a\"/3",
   "id": "9c3969beb06c09e9",
   "outputs": [
    {
     "ename": "TypeError",
     "evalue": "unsupported operand type(s) for /: 'str' and 'int'",
     "output_type": "error",
     "traceback": [
      "\u001B[1;31m---------------------------------------------------------------------------\u001B[0m",
      "\u001B[1;31mTypeError\u001B[0m                                 Traceback (most recent call last)",
      "\u001B[1;32m~\\AppData\\Local\\Temp/ipykernel_7896/3058317241.py\u001B[0m in \u001B[0;36m<module>\u001B[1;34m\u001B[0m\n\u001B[1;32m----> 1\u001B[1;33m \u001B[1;34m\"a\"\u001B[0m\u001B[1;33m/\u001B[0m\u001B[1;36m3\u001B[0m\u001B[1;33m\u001B[0m\u001B[1;33m\u001B[0m\u001B[0m\n\u001B[0m",
      "\u001B[1;31mTypeError\u001B[0m: unsupported operand type(s) for /: 'str' and 'int'"
     ]
    }
   ],
   "execution_count": 34
  },
  {
   "metadata": {
    "ExecuteTime": {
     "end_time": "2025-03-14T18:57:48.010155Z",
     "start_time": "2025-03-14T18:57:47.994419Z"
    }
   },
   "cell_type": "code",
   "source": [
    "name = \"Asya\"\n",
    "message = \"Hello\"\n",
    "\n",
    "print(message + name)"
   ],
   "id": "26d1342f8a86059b",
   "outputs": [
    {
     "name": "stdout",
     "output_type": "stream",
     "text": [
      "HelloAsya\n"
     ]
    }
   ],
   "execution_count": 11
  },
  {
   "metadata": {
    "ExecuteTime": {
     "end_time": "2025-03-14T18:58:11.594689Z",
     "start_time": "2025-03-14T18:58:11.577711Z"
    }
   },
   "cell_type": "code",
   "source": "print(message, name)",
   "id": "9e0bb8009fb368a9",
   "outputs": [
    {
     "name": "stdout",
     "output_type": "stream",
     "text": [
      "Hello Asya\n"
     ]
    }
   ],
   "execution_count": 12
  },
  {
   "metadata": {
    "ExecuteTime": {
     "end_time": "2025-03-14T18:58:30.625285Z",
     "start_time": "2025-03-14T18:58:30.615693Z"
    }
   },
   "cell_type": "code",
   "source": "print(message, \",\", name )",
   "id": "3ba0544559230c07",
   "outputs": [
    {
     "name": "stdout",
     "output_type": "stream",
     "text": [
      "Hello , Asya\n"
     ]
    }
   ],
   "execution_count": 13
  },
  {
   "metadata": {
    "ExecuteTime": {
     "end_time": "2025-03-14T19:04:38.005426Z",
     "start_time": "2025-03-14T19:04:37.997199Z"
    }
   },
   "cell_type": "code",
   "source": "type(name)",
   "id": "5c174a4c0aaa84a8",
   "outputs": [
    {
     "data": {
      "text/plain": [
       "str"
      ]
     },
     "execution_count": 18,
     "metadata": {},
     "output_type": "execute_result"
    }
   ],
   "execution_count": 18
  },
  {
   "metadata": {
    "ExecuteTime": {
     "end_time": "2025-03-14T19:11:19.694359Z",
     "start_time": "2025-03-14T19:11:19.677891Z"
    }
   },
   "cell_type": "code",
   "source": "STRINGLERIN ONEMI",
   "id": "bd860329f0cd5b1e",
   "outputs": [
    {
     "ename": "SyntaxError",
     "evalue": "invalid syntax (Temp/ipykernel_7896/4162571541.py, line 1)",
     "output_type": "error",
     "traceback": [
      "\u001B[1;36m  File \u001B[1;32m\"C:\\Users\\tubaa\\AppData\\Local\\Temp/ipykernel_7896/4162571541.py\"\u001B[1;36m, line \u001B[1;32m1\u001B[0m\n\u001B[1;33m    STRINGLERIN ONEMI\u001B[0m\n\u001B[1;37m                ^\u001B[0m\n\u001B[1;31mSyntaxError\u001B[0m\u001B[1;31m:\u001B[0m invalid syntax\n"
     ]
    }
   ],
   "execution_count": 24
  },
  {
   "metadata": {},
   "cell_type": "markdown",
   "source": "Uzunluk (Eleman Sayısı) Bilgisine Erişmek : len()",
   "id": "f6f7bf52ad1a4762"
  },
  {
   "metadata": {
    "ExecuteTime": {
     "end_time": "2025-03-14T19:25:39.480400Z",
     "start_time": "2025-03-14T19:25:39.456080Z"
    }
   },
   "cell_type": "code",
   "source": [
    "text = \"milli teknoloji hamlesi\"\n",
    "len(text)"
   ],
   "id": "cc452de8faa5e4e8",
   "outputs": [
    {
     "data": {
      "text/plain": [
       "23"
      ]
     },
     "execution_count": 53,
     "metadata": {},
     "output_type": "execute_result"
    }
   ],
   "execution_count": 53
  },
  {
   "metadata": {},
   "cell_type": "markdown",
   "source": [
    "Büyük/Küçük Harf Dönüşümleri: upper() & lower()\n",
    "- Kullanıcıların girdiği ifadeleri standartlaştırmak için kullanılabilir.\n",
    "- Değişken ve dosya isimlerinin standart hale getirilmesi için kullanılabilir."
   ],
   "id": "94735fdb3147133e"
  },
  {
   "metadata": {
    "ExecuteTime": {
     "end_time": "2025-03-14T19:25:41.082267Z",
     "start_time": "2025-03-14T19:25:41.074224Z"
    }
   },
   "cell_type": "code",
   "source": [
    "buyukHarflerle = text.upper()\n",
    "buyukHarflerle"
   ],
   "id": "34ba1c5339a1dff2",
   "outputs": [
    {
     "data": {
      "text/plain": [
       "'MILLI TEKNOLOJI HAMLESI'"
      ]
     },
     "execution_count": 54,
     "metadata": {},
     "output_type": "execute_result"
    }
   ],
   "execution_count": 54
  },
  {
   "metadata": {
    "ExecuteTime": {
     "end_time": "2025-03-14T19:25:49.847321Z",
     "start_time": "2025-03-14T19:25:49.839289Z"
    }
   },
   "cell_type": "code",
   "source": "buyukHarflerle.isupper()",
   "id": "b92381437c5a2b6d",
   "outputs": [
    {
     "data": {
      "text/plain": [
       "True"
      ]
     },
     "execution_count": 55,
     "metadata": {},
     "output_type": "execute_result"
    }
   ],
   "execution_count": 55
  },
  {
   "metadata": {
    "ExecuteTime": {
     "end_time": "2025-03-14T19:25:58.792034Z",
     "start_time": "2025-03-14T19:25:58.785302Z"
    }
   },
   "cell_type": "code",
   "source": "kucukHarflerle = text.lower()",
   "id": "7c0aed53669918d8",
   "outputs": [],
   "execution_count": 56
  },
  {
   "metadata": {
    "ExecuteTime": {
     "end_time": "2025-03-14T19:26:02.838858Z",
     "start_time": "2025-03-14T19:26:02.814371Z"
    }
   },
   "cell_type": "code",
   "source": "kucukHarflerle.islower()",
   "id": "63e3388f557509f",
   "outputs": [
    {
     "data": {
      "text/plain": [
       "True"
      ]
     },
     "execution_count": 57,
     "metadata": {},
     "output_type": "execute_result"
    }
   ],
   "execution_count": 57
  },
  {
   "metadata": {},
   "cell_type": "markdown",
   "source": [
    "Karakter Değiştirme: replace()\n",
    "- Elimizde bulunan stringler üzerinde karakter değiştirme işlemleri yapılabilir."
   ],
   "id": "112e606935b1c8d"
  },
  {
   "metadata": {
    "ExecuteTime": {
     "end_time": "2025-03-14T19:29:59.276694Z",
     "start_time": "2025-03-14T19:29:59.260566Z"
    }
   },
   "cell_type": "code",
   "source": [
    "# \"a\" harfi yerine \"e\" harfini yazmak için\n",
    "text.replace(\"a\", \"e\")"
   ],
   "id": "e800dadbc314d40d",
   "outputs": [
    {
     "data": {
      "text/plain": [
       "'milli teknoloji hemlesi'"
      ]
     },
     "execution_count": 58,
     "metadata": {},
     "output_type": "execute_result"
    }
   ],
   "execution_count": 58
  },
  {
   "metadata": {},
   "cell_type": "markdown",
   "source": [
    "Karakter Kırpma İşlemleri: strip()\n",
    "- Boşluk veya özel karakterin silinmesi için kullanılabilir."
   ],
   "id": "d19568f8340dbe42"
  },
  {
   "metadata": {
    "ExecuteTime": {
     "end_time": "2025-03-14T19:42:30.087205Z",
     "start_time": "2025-03-14T19:42:30.075659Z"
    }
   },
   "cell_type": "code",
   "source": "message = \" deneyap \"",
   "id": "84b3090e42113db9",
   "outputs": [],
   "execution_count": 72
  },
  {
   "metadata": {
    "ExecuteTime": {
     "end_time": "2025-03-14T19:42:31.552456Z",
     "start_time": "2025-03-14T19:42:31.544403Z"
    }
   },
   "cell_type": "code",
   "source": "message.strip() # Ön tanımlı olarak \" \"",
   "id": "8f1250527c028509",
   "outputs": [
    {
     "data": {
      "text/plain": [
       "'deneyap'"
      ]
     },
     "execution_count": 73,
     "metadata": {},
     "output_type": "execute_result"
    }
   ],
   "execution_count": 73
  },
  {
   "metadata": {
    "ExecuteTime": {
     "end_time": "2025-03-14T19:44:01.021321Z",
     "start_time": "2025-03-14T19:44:01.013919Z"
    }
   },
   "cell_type": "code",
   "source": "message_warning = \"*Uyarı_mesajı*\"",
   "id": "d41f6a4adb5a954f",
   "outputs": [],
   "execution_count": 77
  },
  {
   "metadata": {
    "ExecuteTime": {
     "end_time": "2025-03-14T19:44:02.322512Z",
     "start_time": "2025-03-14T19:44:02.306853Z"
    }
   },
   "cell_type": "code",
   "source": "message_warning.strip(\"*\")",
   "id": "1ac989a9b75e3da5",
   "outputs": [
    {
     "data": {
      "text/plain": [
       "'Uyarı_mesajı'"
      ]
     },
     "execution_count": 78,
     "metadata": {},
     "output_type": "execute_result"
    }
   ],
   "execution_count": 78
  },
  {
   "metadata": {
    "ExecuteTime": {
     "end_time": "2025-03-14T19:44:04.888803Z",
     "start_time": "2025-03-14T19:44:04.873187Z"
    }
   },
   "cell_type": "code",
   "source": "dir(message_warning)",
   "id": "d86a5ec2175327c8",
   "outputs": [
    {
     "data": {
      "text/plain": [
       "['__add__',\n",
       " '__class__',\n",
       " '__contains__',\n",
       " '__delattr__',\n",
       " '__dir__',\n",
       " '__doc__',\n",
       " '__eq__',\n",
       " '__format__',\n",
       " '__ge__',\n",
       " '__getattribute__',\n",
       " '__getitem__',\n",
       " '__getnewargs__',\n",
       " '__gt__',\n",
       " '__hash__',\n",
       " '__init__',\n",
       " '__init_subclass__',\n",
       " '__iter__',\n",
       " '__le__',\n",
       " '__len__',\n",
       " '__lt__',\n",
       " '__mod__',\n",
       " '__mul__',\n",
       " '__ne__',\n",
       " '__new__',\n",
       " '__reduce__',\n",
       " '__reduce_ex__',\n",
       " '__repr__',\n",
       " '__rmod__',\n",
       " '__rmul__',\n",
       " '__setattr__',\n",
       " '__sizeof__',\n",
       " '__str__',\n",
       " '__subclasshook__',\n",
       " 'capitalize',\n",
       " 'casefold',\n",
       " 'center',\n",
       " 'count',\n",
       " 'encode',\n",
       " 'endswith',\n",
       " 'expandtabs',\n",
       " 'find',\n",
       " 'format',\n",
       " 'format_map',\n",
       " 'index',\n",
       " 'isalnum',\n",
       " 'isalpha',\n",
       " 'isascii',\n",
       " 'isdecimal',\n",
       " 'isdigit',\n",
       " 'isidentifier',\n",
       " 'islower',\n",
       " 'isnumeric',\n",
       " 'isprintable',\n",
       " 'isspace',\n",
       " 'istitle',\n",
       " 'isupper',\n",
       " 'join',\n",
       " 'ljust',\n",
       " 'lower',\n",
       " 'lstrip',\n",
       " 'maketrans',\n",
       " 'partition',\n",
       " 'removeprefix',\n",
       " 'removesuffix',\n",
       " 'replace',\n",
       " 'rfind',\n",
       " 'rindex',\n",
       " 'rjust',\n",
       " 'rpartition',\n",
       " 'rsplit',\n",
       " 'rstrip',\n",
       " 'split',\n",
       " 'splitlines',\n",
       " 'startswith',\n",
       " 'strip',\n",
       " 'swapcase',\n",
       " 'title',\n",
       " 'translate',\n",
       " 'upper',\n",
       " 'zfill']"
      ]
     },
     "execution_count": 79,
     "metadata": {},
     "output_type": "execute_result"
    }
   ],
   "execution_count": 79
  },
  {
   "metadata": {
    "ExecuteTime": {
     "end_time": "2025-03-14T19:44:07.377685Z",
     "start_time": "2025-03-14T19:44:07.362031Z"
    }
   },
   "cell_type": "code",
   "source": "message_warning.capitalize()",
   "id": "986680c6ee2794d8",
   "outputs": [
    {
     "data": {
      "text/plain": [
       "'*uyarı_mesajı*'"
      ]
     },
     "execution_count": 80,
     "metadata": {},
     "output_type": "execute_result"
    }
   ],
   "execution_count": 80
  },
  {
   "metadata": {
    "ExecuteTime": {
     "end_time": "2025-03-14T19:44:43.299330Z",
     "start_time": "2025-03-14T19:44:43.283707Z"
    }
   },
   "cell_type": "code",
   "source": "message_warning.title()",
   "id": "516f85ef3dd1fd9f",
   "outputs": [
    {
     "data": {
      "text/plain": [
       "'*Uyarı_Mesajı*'"
      ]
     },
     "execution_count": 83,
     "metadata": {},
     "output_type": "execute_result"
    }
   ],
   "execution_count": 83
  },
  {
   "metadata": {},
   "cell_type": "markdown",
   "source": "Index",
   "id": "4108ee7028811cc5"
  },
  {
   "metadata": {
    "ExecuteTime": {
     "end_time": "2025-03-14T19:46:24.522300Z",
     "start_time": "2025-03-14T19:46:24.507289Z"
    }
   },
   "cell_type": "code",
   "source": "message[0]",
   "id": "faa9db7b5e0845cd",
   "outputs": [
    {
     "data": {
      "text/plain": [
       "'*'"
      ]
     },
     "execution_count": 84,
     "metadata": {},
     "output_type": "execute_result"
    }
   ],
   "execution_count": 84
  },
  {
   "metadata": {
    "ExecuteTime": {
     "end_time": "2025-03-14T19:46:44.124907Z",
     "start_time": "2025-03-14T19:46:44.105638Z"
    }
   },
   "cell_type": "code",
   "source": "message[20]",
   "id": "634e9be5accc007a",
   "outputs": [
    {
     "ename": "IndexError",
     "evalue": "string index out of range",
     "output_type": "error",
     "traceback": [
      "\u001B[1;31m---------------------------------------------------------------------------\u001B[0m",
      "\u001B[1;31mIndexError\u001B[0m                                Traceback (most recent call last)",
      "\u001B[1;32m~\\AppData\\Local\\Temp/ipykernel_7896/1175218821.py\u001B[0m in \u001B[0;36m<module>\u001B[1;34m\u001B[0m\n\u001B[1;32m----> 1\u001B[1;33m \u001B[0mmessage\u001B[0m\u001B[1;33m[\u001B[0m\u001B[1;36m20\u001B[0m\u001B[1;33m]\u001B[0m\u001B[1;33m\u001B[0m\u001B[1;33m\u001B[0m\u001B[0m\n\u001B[0m",
      "\u001B[1;31mIndexError\u001B[0m: string index out of range"
     ]
    }
   ],
   "execution_count": 86
  },
  {
   "metadata": {
    "ExecuteTime": {
     "end_time": "2025-03-14T19:47:13.458503Z",
     "start_time": "2025-03-14T19:47:13.448393Z"
    }
   },
   "cell_type": "code",
   "source": "message[0:5]",
   "id": "d356aa7642051a46",
   "outputs": [
    {
     "data": {
      "text/plain": [
       "'*Uyar'"
      ]
     },
     "execution_count": 88,
     "metadata": {},
     "output_type": "execute_result"
    }
   ],
   "execution_count": 88
  },
  {
   "metadata": {},
   "cell_type": "markdown",
   "source": [
    "Tip Dönüşümü\n",
    "- String -->  Int\n",
    "- Int    -->  String\n",
    "- Float --> Int"
   ],
   "id": "45e3b7c1932b127e"
  },
  {
   "metadata": {
    "ExecuteTime": {
     "end_time": "2025-03-14T19:53:04.342746Z",
     "start_time": "2025-03-14T19:52:53.715491Z"
    }
   },
   "cell_type": "code",
   "source": [
    "# Kullanıcıdan bir sayı alma\n",
    "first_num = input()\n",
    "second_num = input()"
   ],
   "id": "f5d6023f6b51ab9b",
   "outputs": [],
   "execution_count": 91
  },
  {
   "metadata": {
    "ExecuteTime": {
     "end_time": "2025-03-14T19:54:27.476215Z",
     "start_time": "2025-03-14T19:54:27.468630Z"
    }
   },
   "cell_type": "code",
   "source": [
    "# Birleştirme -> Toplama\n",
    "first_num + second_num"
   ],
   "id": "a3429972bbc29571",
   "outputs": [
    {
     "data": {
      "text/plain": [
       "'59'"
      ]
     },
     "execution_count": 94,
     "metadata": {},
     "output_type": "execute_result"
    }
   ],
   "execution_count": 94
  },
  {
   "metadata": {
    "ExecuteTime": {
     "end_time": "2025-03-14T19:54:24.290450Z",
     "start_time": "2025-03-14T19:54:24.276808Z"
    }
   },
   "cell_type": "code",
   "source": "int(first_num) + int(second_num)",
   "id": "3234e5bdd1e91f49",
   "outputs": [
    {
     "data": {
      "text/plain": [
       "14"
      ]
     },
     "execution_count": 93,
     "metadata": {},
     "output_type": "execute_result"
    }
   ],
   "execution_count": 93
  },
  {
   "metadata": {
    "ExecuteTime": {
     "end_time": "2025-03-14T19:54:53.885856Z",
     "start_time": "2025-03-14T19:54:53.868Z"
    }
   },
   "cell_type": "code",
   "source": "int(86.9)",
   "id": "7de9dc796f4eabff",
   "outputs": [
    {
     "data": {
      "text/plain": [
       "86"
      ]
     },
     "execution_count": 95,
     "metadata": {},
     "output_type": "execute_result"
    }
   ],
   "execution_count": 95
  },
  {
   "metadata": {
    "ExecuteTime": {
     "end_time": "2025-03-14T19:55:34.400715Z",
     "start_time": "2025-03-14T19:55:34.387134Z"
    }
   },
   "cell_type": "code",
   "source": "str(12)",
   "id": "f6e7f8f0a18e4b20",
   "outputs": [
    {
     "data": {
      "text/plain": [
       "'12'"
      ]
     },
     "execution_count": 96,
     "metadata": {},
     "output_type": "execute_result"
    }
   ],
   "execution_count": 96
  },
  {
   "metadata": {},
   "cell_type": "markdown",
   "source": "# Pyton 201 Eğitimi\n",
   "id": "8bcf1ce47fc0dd02"
  },
  {
   "metadata": {},
   "cell_type": "markdown",
   "source": [
    "Listeler\n",
    "- Python'ın önemli veri yapılarından birisidir.\n",
    "- Değiştirilebilirdir.\n",
    "- Kapsayıcıdır -> Farklı veri tipinde değerleri tutabilir.\n",
    "- Sıralıdır -> Index işlemleri yapılabilir."
   ],
   "id": "bd0207a77e0445ab"
  },
  {
   "metadata": {
    "ExecuteTime": {
     "end_time": "2025-03-14T21:49:56.392756Z",
     "start_time": "2025-03-14T21:49:56.377533Z"
    }
   },
   "cell_type": "code",
   "source": [
    "# Liste Oluşturma için iki yöntem kullanılabilir.\n",
    "# 1- []\n",
    "# 2- list()\n",
    "ogr_notlari = [90, 80, 95, 100]\n",
    "print(type(ogr_notlari))"
   ],
   "id": "6fdfafaec2666e71",
   "outputs": [
    {
     "name": "stdout",
     "output_type": "stream",
     "text": [
      "<class 'list'>\n"
     ]
    }
   ],
   "execution_count": 2
  },
  {
   "metadata": {
    "ExecuteTime": {
     "end_time": "2025-03-14T21:51:45.192385Z",
     "start_time": "2025-03-14T21:51:45.177458Z"
    }
   },
   "cell_type": "code",
   "source": "liste = [\"a\", 19, 3, 90.6]",
   "id": "e61b7dc084549cf5",
   "outputs": [],
   "execution_count": 4
  },
  {
   "metadata": {
    "ExecuteTime": {
     "end_time": "2025-03-14T22:00:43.269950Z",
     "start_time": "2025-03-14T22:00:43.262448Z"
    }
   },
   "cell_type": "code",
   "source": [
    "# liste içinde liste \n",
    "liste_ekleme = [\"a\", 19, 3, 90.6, ogr_notlari]\n",
    "print(liste_ekleme)"
   ],
   "id": "be34abb543b4208e",
   "outputs": [
    {
     "name": "stdout",
     "output_type": "stream",
     "text": [
      "['a', 19, 3, 90.6, [90, 80, 95, 100]]\n"
     ]
    }
   ],
   "execution_count": 18
  },
  {
   "metadata": {
    "ExecuteTime": {
     "end_time": "2025-03-14T21:52:58.342573Z",
     "start_time": "2025-03-14T21:52:58.331966Z"
    }
   },
   "cell_type": "code",
   "source": "len(liste_ekleme)",
   "id": "c570a4ecaedfb220",
   "outputs": [
    {
     "data": {
      "text/plain": [
       "5"
      ]
     },
     "execution_count": 6,
     "metadata": {},
     "output_type": "execute_result"
    }
   ],
   "execution_count": 6
  },
  {
   "metadata": {},
   "cell_type": "markdown",
   "source": "Liste İçi Tip Sorgulama",
   "id": "8dbeed181e01b829"
  },
  {
   "metadata": {
    "ExecuteTime": {
     "end_time": "2025-03-14T21:55:04.281736Z",
     "start_time": "2025-03-14T21:55:04.261758Z"
    }
   },
   "cell_type": "code",
   "source": [
    "print(type(liste_ekleme))\n",
    "\n",
    "# \"a\" yani 0. index için:\n",
    "print(type(liste_ekleme[0]))"
   ],
   "id": "48b5b94f59248e8d",
   "outputs": [
    {
     "name": "stdout",
     "output_type": "stream",
     "text": [
      "<class 'list'>\n",
      "<class 'str'>\n"
     ]
    }
   ],
   "execution_count": 9
  },
  {
   "metadata": {
    "ExecuteTime": {
     "end_time": "2025-03-14T21:56:31.751201Z",
     "start_time": "2025-03-14T21:56:31.732954Z"
    }
   },
   "cell_type": "code",
   "source": [
    "# Listenin silinmesi\n",
    "del liste_ekleme"
   ],
   "id": "972ca83d73941a90",
   "outputs": [],
   "execution_count": 10
  },
  {
   "metadata": {},
   "cell_type": "markdown",
   "source": "Liste Elemanlarına Erişmek",
   "id": "bc1e17f4eb83e794"
  },
  {
   "metadata": {
    "ExecuteTime": {
     "end_time": "2025-03-14T21:58:03.342046Z",
     "start_time": "2025-03-14T21:58:03.332166Z"
    }
   },
   "cell_type": "code",
   "source": [
    "new_list = [10, 20, 30, 40, 50]\n",
    "print(new_list[4])\n",
    "print(new_list[-1])"
   ],
   "id": "d41b2991bbc68057",
   "outputs": [
    {
     "name": "stdout",
     "output_type": "stream",
     "text": [
      "50\n",
      "50\n"
     ]
    }
   ],
   "execution_count": 14
  },
  {
   "metadata": {
    "ExecuteTime": {
     "end_time": "2025-03-14T21:59:09.699811Z",
     "start_time": "2025-03-14T21:59:09.685170Z"
    }
   },
   "cell_type": "code",
   "source": [
    "print(new_list[:2])\n",
    "print(new_list[2:])"
   ],
   "id": "116612a9b0a83fe9",
   "outputs": [
    {
     "name": "stdout",
     "output_type": "stream",
     "text": [
      "[10, 20]\n",
      "[30, 40, 50]\n"
     ]
    }
   ],
   "execution_count": 17
  },
  {
   "metadata": {
    "ExecuteTime": {
     "end_time": "2025-03-14T22:01:40.479993Z",
     "start_time": "2025-03-14T22:01:40.468732Z"
    }
   },
   "cell_type": "code",
   "source": "general_list = [\"t\", 37.5, new_list]",
   "id": "580f43dfa1ef6bb7",
   "outputs": [],
   "execution_count": 19
  },
  {
   "metadata": {
    "ExecuteTime": {
     "end_time": "2025-03-14T22:01:53.364698Z",
     "start_time": "2025-03-14T22:01:53.351661Z"
    }
   },
   "cell_type": "code",
   "source": "print(general_list[2])",
   "id": "23087901e5f65711",
   "outputs": [
    {
     "name": "stdout",
     "output_type": "stream",
     "text": [
      "[10, 20, 30, 40, 50]\n"
     ]
    }
   ],
   "execution_count": 20
  },
  {
   "metadata": {
    "ExecuteTime": {
     "end_time": "2025-03-14T22:02:23.781150Z",
     "start_time": "2025-03-14T22:02:23.766595Z"
    }
   },
   "cell_type": "code",
   "source": "print(general_list[2][3])",
   "id": "4685cf1652b15bec",
   "outputs": [
    {
     "name": "stdout",
     "output_type": "stream",
     "text": [
      "40\n"
     ]
    }
   ],
   "execution_count": 23
  },
  {
   "metadata": {
    "ExecuteTime": {
     "end_time": "2025-03-14T22:25:21.832353Z",
     "start_time": "2025-03-14T22:25:21.814472Z"
    }
   },
   "cell_type": "code",
   "source": [
    "general_list.extend([\"b\", \"c\"])\n",
    "general_list"
   ],
   "id": "f9243f3a30c1251a",
   "outputs": [],
   "execution_count": 42
  },
  {
   "metadata": {},
   "cell_type": "markdown",
   "source": "Listelere Eleman Ekleme, Değiştirme ve Silme",
   "id": "66c9d99c751737be"
  },
  {
   "metadata": {
    "ExecuteTime": {
     "end_time": "2025-03-14T22:05:08.516512Z",
     "start_time": "2025-03-14T22:05:08.500745Z"
    }
   },
   "cell_type": "code",
   "source": "list_name = [\"Ali\", \"Veli\", \"Berkcan\", \"Ayşe\", \"Nil\"]",
   "id": "adfc5f39fbbd6850",
   "outputs": [],
   "execution_count": 25
  },
  {
   "metadata": {
    "ExecuteTime": {
     "end_time": "2025-03-14T22:05:10.020993Z",
     "start_time": "2025-03-14T22:05:10.006451Z"
    }
   },
   "cell_type": "code",
   "source": [
    "# Eleman Değiştirme\n",
    "list_name[1] = \"Sena\""
   ],
   "id": "1fee69016ec2cfd6",
   "outputs": [],
   "execution_count": 26
  },
  {
   "metadata": {
    "ExecuteTime": {
     "end_time": "2025-03-14T22:05:19.545816Z",
     "start_time": "2025-03-14T22:05:19.530858Z"
    }
   },
   "cell_type": "code",
   "source": "list_name",
   "id": "642c0d4adec99114",
   "outputs": [
    {
     "data": {
      "text/plain": [
       "['Ali', 'Sena', 'Berkcan', 'Ayşe', 'Nil']"
      ]
     },
     "execution_count": 27,
     "metadata": {},
     "output_type": "execute_result"
    }
   ],
   "execution_count": 27
  },
  {
   "metadata": {
    "ExecuteTime": {
     "end_time": "2025-03-14T22:07:29.381895Z",
     "start_time": "2025-03-14T22:07:29.371951Z"
    }
   },
   "cell_type": "code",
   "source": [
    "# Eleman Ekleme\n",
    "list_name = list_name + [\"Kemal\"]"
   ],
   "id": "991b683b05fbc968",
   "outputs": [],
   "execution_count": 28
  },
  {
   "metadata": {
    "ExecuteTime": {
     "end_time": "2025-03-14T22:09:25.776989Z",
     "start_time": "2025-03-14T22:09:25.769858Z"
    }
   },
   "cell_type": "code",
   "source": "list_name.append(\"Mutlu\")",
   "id": "2d5748692db8cfb7",
   "outputs": [],
   "execution_count": 32
  },
  {
   "metadata": {
    "ExecuteTime": {
     "end_time": "2025-03-14T22:09:27.619319Z",
     "start_time": "2025-03-14T22:09:27.603022Z"
    }
   },
   "cell_type": "code",
   "source": "list_name",
   "id": "8ccb23409531efdd",
   "outputs": [
    {
     "data": {
      "text/plain": [
       "['Ali', 'Sena', 'Ayşe', 'Nil', 'Kemal', 'Mutlu']"
      ]
     },
     "execution_count": 33,
     "metadata": {},
     "output_type": "execute_result"
    }
   ],
   "execution_count": 33
  },
  {
   "metadata": {
    "ExecuteTime": {
     "end_time": "2025-03-14T22:10:24.645725Z",
     "start_time": "2025-03-14T22:10:24.640824Z"
    }
   },
   "cell_type": "code",
   "source": [
    "# Eleman Silme\n",
    "del list_name[2]"
   ],
   "id": "ce3a8f139f88e603",
   "outputs": [],
   "execution_count": 34
  },
  {
   "metadata": {
    "ExecuteTime": {
     "end_time": "2025-03-14T22:10:26.231756Z",
     "start_time": "2025-03-14T22:10:26.222554Z"
    }
   },
   "cell_type": "code",
   "source": "list_name.remove(\"Mutlu\")",
   "id": "3a73c5336d901fca",
   "outputs": [],
   "execution_count": 35
  },
  {
   "metadata": {
    "ExecuteTime": {
     "end_time": "2025-03-14T22:10:30.726003Z",
     "start_time": "2025-03-14T22:10:30.705254Z"
    }
   },
   "cell_type": "code",
   "source": "list_name",
   "id": "657df2f791cf3ff5",
   "outputs": [
    {
     "data": {
      "text/plain": [
       "['Ali', 'Sena', 'Nil', 'Kemal']"
      ]
     },
     "execution_count": 36,
     "metadata": {},
     "output_type": "execute_result"
    }
   ],
   "execution_count": 36
  },
  {
   "metadata": {},
   "cell_type": "markdown",
   "source": "Indekse Göre Eleman Ekleme ve Silme: insert ve pop",
   "id": "2f5cc000e0f55bc"
  },
  {
   "metadata": {
    "ExecuteTime": {
     "end_time": "2025-03-14T22:20:06.656252Z",
     "start_time": "2025-03-14T22:20:06.650640Z"
    }
   },
   "cell_type": "code",
   "source": "list_name.insert(0, \"Şeyma\")",
   "id": "63d0f7a96f5ac01c",
   "outputs": [],
   "execution_count": 37
  },
  {
   "metadata": {
    "ExecuteTime": {
     "end_time": "2025-03-14T22:20:15.890238Z",
     "start_time": "2025-03-14T22:20:15.881820Z"
    }
   },
   "cell_type": "code",
   "source": "list_name",
   "id": "920602c437b56fce",
   "outputs": [
    {
     "data": {
      "text/plain": [
       "['Şeyma', 'Ali', 'Sena', 'Nil', 'Kemal']"
      ]
     },
     "execution_count": 38,
     "metadata": {},
     "output_type": "execute_result"
    }
   ],
   "execution_count": 38
  },
  {
   "metadata": {
    "ExecuteTime": {
     "end_time": "2025-03-14T22:22:04.383162Z",
     "start_time": "2025-03-14T22:22:04.373959Z"
    }
   },
   "cell_type": "code",
   "source": [
    "list_name.pop(0)\n",
    "list_name"
   ],
   "id": "f81164dd9d924299",
   "outputs": [
    {
     "data": {
      "text/plain": [
       "['Ali', 'Sena', 'Nil', 'Kemal']"
      ]
     },
     "execution_count": 39,
     "metadata": {},
     "output_type": "execute_result"
    }
   ],
   "execution_count": 39
  },
  {
   "metadata": {},
   "cell_type": "markdown",
   "source": [
    "Tuple:\n",
    "- Pythonda kullanılan veri yapısıdır.\n",
    "- Kapsayıcıdır. Listeler gibi.\n",
    "- Sıralıdır. Listeler gibi.\n",
    "- Değiştirilemez."
   ],
   "id": "b790f0d75e39d2e7"
  },
  {
   "metadata": {
    "ExecuteTime": {
     "end_time": "2025-03-14T22:29:21.471189Z",
     "start_time": "2025-03-14T22:29:21.461852Z"
    }
   },
   "cell_type": "code",
   "source": [
    "# Tuple Oluşturma\n",
    "t = (\"Ali\", \"Veli\", 1, 2, 3, [4, 5, 6])\n",
    "print(type(t))"
   ],
   "id": "5e32800f8ded1db5",
   "outputs": [
    {
     "name": "stdout",
     "output_type": "stream",
     "text": [
      "<class 'tuple'>\n"
     ]
    }
   ],
   "execution_count": 44
  },
  {
   "metadata": {
    "ExecuteTime": {
     "end_time": "2025-03-14T22:31:03.596436Z",
     "start_time": "2025-03-14T22:31:03.572076Z"
    }
   },
   "cell_type": "code",
   "source": "t[2] = 99",
   "id": "edd685ae8ef5c75f",
   "outputs": [
    {
     "ename": "TypeError",
     "evalue": "'tuple' object does not support item assignment",
     "output_type": "error",
     "traceback": [
      "\u001B[1;31m---------------------------------------------------------------------------\u001B[0m",
      "\u001B[1;31mTypeError\u001B[0m                                 Traceback (most recent call last)",
      "\u001B[1;32m~\\AppData\\Local\\Temp/ipykernel_1980/2696364089.py\u001B[0m in \u001B[0;36m<module>\u001B[1;34m\u001B[0m\n\u001B[1;32m----> 1\u001B[1;33m \u001B[0mt\u001B[0m\u001B[1;33m[\u001B[0m\u001B[1;36m2\u001B[0m\u001B[1;33m]\u001B[0m \u001B[1;33m=\u001B[0m \u001B[1;36m99\u001B[0m\u001B[1;33m\u001B[0m\u001B[1;33m\u001B[0m\u001B[0m\n\u001B[0m",
      "\u001B[1;31mTypeError\u001B[0m: 'tuple' object does not support item assignment"
     ]
    }
   ],
   "execution_count": 45
  },
  {
   "metadata": {},
   "cell_type": "markdown",
   "source": [
    "Dictionary:\n",
    "- Kapsayıcıdır. Listeler gibi\n",
    "- Değiştirilebilir. Listeler gibi\n",
    "- Sırasızdır."
   ],
   "id": "7a1fadb5a545dd49"
  },
  {
   "metadata": {
    "ExecuteTime": {
     "end_time": "2025-03-14T22:38:35.404102Z",
     "start_time": "2025-03-14T22:38:35.387367Z"
    }
   },
   "cell_type": "code",
   "source": [
    "# Sözlük Oluşturma - Key:Değer\n",
    "sozluk = {\n",
    "    \"Elma\": 52,\n",
    "    \"Muz\" : 89,\n",
    "    \"Portakal\": 47\n",
    "}\n",
    "\n",
    "print(sozluk)"
   ],
   "id": "7ddf623f2d3c4dd0",
   "outputs": [
    {
     "name": "stdout",
     "output_type": "stream",
     "text": [
      "{'Elma': 52, 'Muz': 89, 'Portakal': 47}\n"
     ]
    }
   ],
   "execution_count": 46
  },
  {
   "metadata": {
    "ExecuteTime": {
     "end_time": "2025-03-14T22:40:56.136438Z",
     "start_time": "2025-03-14T22:40:56.120469Z"
    }
   },
   "cell_type": "code",
   "source": "print(\"Muzun kalorisi:\", sozluk[\"Muz\"])",
   "id": "14be8bff6bb82a67",
   "outputs": [
    {
     "name": "stdout",
     "output_type": "stream",
     "text": [
      "Muzun kalorisi: 89\n"
     ]
    }
   ],
   "execution_count": 47
  },
  {
   "metadata": {
    "ExecuteTime": {
     "end_time": "2025-03-14T22:42:02.593823Z",
     "start_time": "2025-03-14T22:42:02.576446Z"
    }
   },
   "cell_type": "code",
   "source": "print(\"Muzun Kalorisi:\", sozluk[1])",
   "id": "ae5d64f61e2cc607",
   "outputs": [
    {
     "ename": "KeyError",
     "evalue": "1",
     "output_type": "error",
     "traceback": [
      "\u001B[1;31m---------------------------------------------------------------------------\u001B[0m",
      "\u001B[1;31mKeyError\u001B[0m                                  Traceback (most recent call last)",
      "\u001B[1;32m~\\AppData\\Local\\Temp/ipykernel_1980/858999197.py\u001B[0m in \u001B[0;36m<module>\u001B[1;34m\u001B[0m\n\u001B[1;32m----> 1\u001B[1;33m \u001B[0mprint\u001B[0m\u001B[1;33m(\u001B[0m\u001B[1;34m\"Muzun Kalorisi:\"\u001B[0m\u001B[1;33m,\u001B[0m \u001B[0msozluk\u001B[0m\u001B[1;33m[\u001B[0m\u001B[1;36m1\u001B[0m\u001B[1;33m]\u001B[0m\u001B[1;33m)\u001B[0m\u001B[1;33m\u001B[0m\u001B[1;33m\u001B[0m\u001B[0m\n\u001B[0m",
      "\u001B[1;31mKeyError\u001B[0m: 1"
     ]
    }
   ],
   "execution_count": 48
  },
  {
   "metadata": {},
   "cell_type": "markdown",
   "source": "Sözlük Eleman Ekleme ve Değiştirme",
   "id": "659ecb788e624323"
  },
  {
   "metadata": {
    "ExecuteTime": {
     "end_time": "2025-03-14T22:43:55.505367Z",
     "start_time": "2025-03-14T22:43:55.498527Z"
    }
   },
   "cell_type": "code",
   "source": "sozluk[\"Kivi\"] = 75",
   "id": "cfd6a1c380e0093",
   "outputs": [],
   "execution_count": 49
  },
  {
   "metadata": {
    "ExecuteTime": {
     "end_time": "2025-03-14T22:44:12.027712Z",
     "start_time": "2025-03-14T22:44:12.012958Z"
    }
   },
   "cell_type": "code",
   "source": "sozluk",
   "id": "ac0f2741e583da2f",
   "outputs": [
    {
     "data": {
      "text/plain": [
       "{'Elma': 52, 'Muz': 89, 'Portakal': 47, 'Kivi': 75}"
      ]
     },
     "execution_count": 50,
     "metadata": {},
     "output_type": "execute_result"
    }
   ],
   "execution_count": 50
  },
  {
   "metadata": {
    "ExecuteTime": {
     "end_time": "2025-03-14T22:44:52.413081Z",
     "start_time": "2025-03-14T22:44:52.404877Z"
    }
   },
   "cell_type": "code",
   "source": [
    "sozluk[\"Elma\"] = 36\n",
    "sozluk"
   ],
   "id": "bc1bcd17c846e2aa",
   "outputs": [
    {
     "data": {
      "text/plain": [
       "{'Elma': 36, 'Muz': 89, 'Portakal': 47, 'Kivi': 75}"
      ]
     },
     "execution_count": 51,
     "metadata": {},
     "output_type": "execute_result"
    }
   ],
   "execution_count": 51
  },
  {
   "metadata": {},
   "cell_type": "markdown",
   "source": [
    "Set(Küme):\n",
    "- Değiştirilebilir. Listeler gibi\n",
    "- Sırasızdır. Dictionary gibi\n",
    "- Kapsayıcıdır. Liste, Tuple, Dictionary gibi\n",
    "- Değeri eşsizdir. Tekrar eden değerleri barındıramaz."
   ],
   "id": "8eb1f3480096ed56"
  },
  {
   "metadata": {
    "ExecuteTime": {
     "end_time": "2025-03-14T22:49:15.630734Z",
     "start_time": "2025-03-14T22:49:15.622725Z"
    }
   },
   "cell_type": "code",
   "source": [
    "# Set Oluşturma\n",
    "s = set()\n",
    "type(s)"
   ],
   "id": "9aab1db968b078ff",
   "outputs": [
    {
     "data": {
      "text/plain": [
       "set"
      ]
     },
     "execution_count": 52,
     "metadata": {},
     "output_type": "execute_result"
    }
   ],
   "execution_count": 52
  },
  {
   "metadata": {
    "ExecuteTime": {
     "end_time": "2025-03-14T22:50:10.115844Z",
     "start_time": "2025-03-14T22:50:10.099566Z"
    }
   },
   "cell_type": "code",
   "source": [
    "set_list = [1, \"a\", \"ali\", 123]\n",
    "s = set(set_list)\n",
    "print(s)\n",
    "print(type(s))"
   ],
   "id": "733f3d0e130dea1c",
   "outputs": [
    {
     "name": "stdout",
     "output_type": "stream",
     "text": [
      "{123, 1, 'ali', 'a'}\n",
      "<class 'set'>\n"
     ]
    }
   ],
   "execution_count": 53
  },
  {
   "metadata": {
    "ExecuteTime": {
     "end_time": "2025-03-14T22:52:30.206543Z",
     "start_time": "2025-03-14T22:52:30.189906Z"
    }
   },
   "cell_type": "code",
   "source": [
    "set_text = \"AAhhmmeett!\"\n",
    "set_text = set(set_text)\n",
    "print(set_text)"
   ],
   "id": "2940868396175330",
   "outputs": [
    {
     "name": "stdout",
     "output_type": "stream",
     "text": [
      "{'t', 'm', '!', 'e', 'A', 'h'}\n"
     ]
    }
   ],
   "execution_count": 55
  },
  {
   "metadata": {
    "ExecuteTime": {
     "end_time": "2025-03-14T22:57:52.066095Z",
     "start_time": "2025-03-14T22:57:52.059276Z"
    }
   },
   "cell_type": "code",
   "source": [
    "set1 = set([1, 3, 5])\n",
    "set2 = set([1, 2, 3])\n",
    "\n",
    "print(\"Fark\")\n",
    "print(set1.difference(set2))\n",
    "\n",
    "print(\"Kesişim\")\n",
    "print(set1.intersection(set2))\n",
    "\n",
    "print(\"Birleşim\")\n",
    "print(set1.union(set2))"
   ],
   "id": "832cfb1cf788bb8e",
   "outputs": [
    {
     "name": "stdout",
     "output_type": "stream",
     "text": [
      "Fark\n",
      "{5}\n",
      "Kesişim\n",
      "{1, 3}\n",
      "Birleşim\n",
      "{1, 2, 3, 5}\n"
     ]
    }
   ],
   "execution_count": 56
  },
  {
   "metadata": {},
   "cell_type": "markdown",
   "source": "# Python 301 Eğitimi",
   "id": "8be984a32122ac5a"
  },
  {
   "metadata": {},
   "cell_type": "markdown",
   "source": [
    "Fonksiyonlar\n",
    "- Belirli görevler için yazılan,\n",
    "- Parametre alabilen veya almayan,\n",
    "- Tekrar kullanılabilen \n",
    "yapılardır."
   ],
   "id": "f63fd16f4e47fb89"
  },
  {
   "metadata": {
    "ExecuteTime": {
     "end_time": "2025-03-14T23:09:41.395698Z",
     "start_time": "2025-03-14T23:09:41.379127Z"
    }
   },
   "cell_type": "code",
   "source": [
    "# Fonksiyon Oluşturma - Kare Alma\n",
    "#3**2\n",
    "\n",
    "def kareAl(x):\n",
    "    print(x, \" Sayısının Karesi = \", x**2)"
   ],
   "id": "bb000e7e83b1be47",
   "outputs": [],
   "execution_count": 62
  },
  {
   "metadata": {
    "ExecuteTime": {
     "end_time": "2025-03-14T23:13:11.162303Z",
     "start_time": "2025-03-14T23:13:11.137970Z"
    }
   },
   "cell_type": "code",
   "source": [
    "# Ön Tanımlı\n",
    "def carpma_islemi(x, y=5):\n",
    "    return x * y"
   ],
   "id": "a11a34493067b9ee",
   "outputs": [],
   "execution_count": 65
  },
  {
   "metadata": {
    "ExecuteTime": {
     "end_time": "2025-03-14T23:13:12.591694Z",
     "start_time": "2025-03-14T23:13:12.577638Z"
    }
   },
   "cell_type": "code",
   "source": [
    "sonuc= carpma_islemi(4)\n",
    "sonuc  "
   ],
   "id": "a9d7d20ea0f66c83",
   "outputs": [
    {
     "data": {
      "text/plain": [
       "20"
      ]
     },
     "execution_count": 66,
     "metadata": {},
     "output_type": "execute_result"
    }
   ],
   "execution_count": 66
  },
  {
   "metadata": {},
   "cell_type": "code",
   "source": [
    "# Local ve Global Değişkenler\n",
    "\n",
    "x = 10\n",
    "y = 5\n",
    "\n",
    "def carpma_yap(x, y):\n",
    "    print(x*y)\n",
    "\n",
    "carpma_yap(4, 2)"
   ],
   "id": "751ebf1c8c290e82",
   "outputs": [],
   "execution_count": null
  },
  {
   "metadata": {},
   "cell_type": "markdown",
   "source": [
    "Karar Kontrol Yapıları\n",
    "- Kar yağarsa ...\n",
    "- Yağmur yağarsa ..."
   ],
   "id": "b6c9dbdf52dff02f"
  },
  {
   "metadata": {
    "ExecuteTime": {
     "end_time": "2025-03-14T23:23:46.546010Z",
     "start_time": "2025-03-14T23:23:46.537758Z"
    }
   },
   "cell_type": "code",
   "source": [
    "sinir_degeri = 5000\n",
    "\n",
    "sinir_degeri == 4000"
   ],
   "id": "64810c70fd70cb86",
   "outputs": [
    {
     "data": {
      "text/plain": [
       "False"
      ]
     },
     "execution_count": 69,
     "metadata": {},
     "output_type": "execute_result"
    }
   ],
   "execution_count": 69
  },
  {
   "metadata": {
    "ExecuteTime": {
     "end_time": "2025-03-14T23:26:54.729458Z",
     "start_time": "2025-03-14T23:26:54.713460Z"
    }
   },
   "cell_type": "code",
   "source": [
    "gelir_durumu = 38000\n",
    "if gelir_durumu > 50000:\n",
    "    print(\"Geliri 50.000'den fazla \")\n",
    "else:\n",
    "    print(\"Geliri 50.000'den az \")"
   ],
   "id": "84e51fe4ddd39785",
   "outputs": [
    {
     "name": "stdout",
     "output_type": "stream",
     "text": [
      "Geliri 50.000'den az \n"
     ]
    }
   ],
   "execution_count": 72
  },
  {
   "metadata": {
    "ExecuteTime": {
     "end_time": "2025-03-14T23:29:47.640199Z",
     "start_time": "2025-03-14T23:29:47.625692Z"
    }
   },
   "cell_type": "code",
   "source": [
    "def hava_durumu(hava):\n",
    "    if hava == \"güneşli\":\n",
    "        print(\"Güneş gözlüğü takmayı unutma! 😎\")\n",
    "    elif hava == \"yağmurlu\":\n",
    "        print(\"Şemsiyeni yanına al! ☔\")\n",
    "    elif hava == \"karlı\":\n",
    "        print(\"Sıkı giyin, montunu unutma! ❄️\")\n",
    "    else:\n",
    "        print(\"Bilinmeyen hava durumu, yine de dikkatli ol!\")"
   ],
   "id": "e11e7258ae173e4c",
   "outputs": [],
   "execution_count": 73
  },
  {
   "metadata": {
    "ExecuteTime": {
     "end_time": "2025-03-14T23:30:31.645655Z",
     "start_time": "2025-03-14T23:30:25.469012Z"
    }
   },
   "cell_type": "code",
   "source": [
    "hava = input(\"Hava nasıl? (güneşli, yağmurlu, karlı): \").lower()\n",
    "hava_durumu(hava)"
   ],
   "id": "b76c088ffa3d603",
   "outputs": [
    {
     "name": "stdout",
     "output_type": "stream",
     "text": [
      "Güneş gözlüğü takmayı unutma! 😎\n"
     ]
    }
   ],
   "execution_count": 75
  },
  {
   "metadata": {},
   "cell_type": "markdown",
   "source": [
    "Döngüler\n",
    "- Tekrarlayan işlemler otomatikleştirilir,\n",
    "- For ve While döngüleri yaygın olarak kullanılır.\n",
    "- Koşul sağlandıkça while döngüsü devam ederken, for döngüsü genellikle belirli bir aralıktaki sayılar için çalışır."
   ],
   "id": "216879ffa17ed21b"
  },
  {
   "metadata": {},
   "cell_type": "markdown",
   "source": "For Döngüsü\n",
   "id": "bc16c8e85ecf32ac"
  },
  {
   "metadata": {
    "ExecuteTime": {
     "end_time": "2025-03-14T23:33:58.987725Z",
     "start_time": "2025-03-14T23:33:58.974945Z"
    }
   },
   "cell_type": "code",
   "source": [
    "for i in range(1, 6):\n",
    "    print(i)"
   ],
   "id": "18f63ee15cd253e4",
   "outputs": [
    {
     "name": "stdout",
     "output_type": "stream",
     "text": [
      "1\n",
      "2\n",
      "3\n",
      "4\n",
      "5\n"
     ]
    }
   ],
   "execution_count": 76
  },
  {
   "metadata": {
    "ExecuteTime": {
     "end_time": "2025-03-14T23:35:57.946633Z",
     "start_time": "2025-03-14T23:35:57.930593Z"
    }
   },
   "cell_type": "code",
   "source": [
    "ogrenciler = [\"Ali\", \"Ahmet\", \"Işık\", \"Veli\"]\n",
    "for ogr in ogrenciler:\n",
    "    print(ogr)"
   ],
   "id": "88e6e3cd428c9fd1",
   "outputs": [
    {
     "name": "stdout",
     "output_type": "stream",
     "text": [
      "Ali\n",
      "Ahmet\n",
      "Işık\n",
      "Veli\n"
     ]
    }
   ],
   "execution_count": 78
  },
  {
   "metadata": {
    "ExecuteTime": {
     "end_time": "2025-03-14T23:34:08.910932Z",
     "start_time": "2025-03-14T23:34:08.887807Z"
    }
   },
   "cell_type": "code",
   "source": [
    "sayi = 1\n",
    "\n",
    "while sayi <= 5:\n",
    "    print(sayi)\n",
    "    sayi += 1  # Her turda sayıyı 1 artır"
   ],
   "id": "ad4e6090f8ad251f",
   "outputs": [
    {
     "name": "stdout",
     "output_type": "stream",
     "text": [
      "1\n",
      "2\n",
      "3\n",
      "4\n",
      "5\n"
     ]
    }
   ],
   "execution_count": 77
  },
  {
   "metadata": {
    "ExecuteTime": {
     "end_time": "2025-03-14T23:40:48.110504Z",
     "start_time": "2025-03-14T23:40:48.091448Z"
    }
   },
   "cell_type": "code",
   "source": [
    "# Maaşlara %20 zam uygulama\n",
    "maaslar = [1000, 2000, 3000, 4000, 5000]\n",
    "\n",
    "for i in maaslar:\n",
    "    print(i)\n",
    "\n",
    "print((1000*20/100) + 1000)\n",
    "\n",
    "def zamUygulama(maaslar):\n",
    "    for i in maaslar:\n",
    "        print((i*20/100)+i)\n",
    "zamUygulama(maaslar)"
   ],
   "id": "a3dd07976e4555ae",
   "outputs": [
    {
     "name": "stdout",
     "output_type": "stream",
     "text": [
      "1000\n",
      "2000\n",
      "3000\n",
      "4000\n",
      "5000\n",
      "1200.0\n",
      "1200.0\n",
      "2400.0\n",
      "3600.0\n",
      "4800.0\n",
      "6000.0\n"
     ]
    }
   ],
   "execution_count": 82
  },
  {
   "metadata": {},
   "cell_type": "markdown",
   "source": [
    "Uygulama: if, for ve Fonksiyonların Birlikte Kullanımı\n",
    "- Maaşı 3000 TL'den yüksek olanlara %10 zam\n",
    "- Maaşı 3000 TL'den düşük olanara %20 zam"
   ],
   "id": "f776c7fc5ac01412"
  },
  {
   "metadata": {
    "ExecuteTime": {
     "end_time": "2025-03-14T23:46:12.366296Z",
     "start_time": "2025-03-14T23:46:12.352618Z"
    }
   },
   "cell_type": "code",
   "source": [
    "def maas_yuksek(x):\n",
    "    print((x * 10 / 100) + x)\n",
    "    \n",
    "def maas_dusuk(x):\n",
    "    print((x * 20 / 100) + x)\n",
    "\n",
    "for i in maaslar:\n",
    "    if i >= 3000:\n",
    "        maas_yuksek(i)\n",
    "    else:\n",
    "        maas_dusuk(i)"
   ],
   "id": "a562d602d472bc9",
   "outputs": [
    {
     "name": "stdout",
     "output_type": "stream",
     "text": [
      "1200.0\n",
      "2400.0\n",
      "3300.0\n",
      "4400.0\n",
      "5500.0\n"
     ]
    }
   ],
   "execution_count": 83
  },
  {
   "metadata": {},
   "cell_type": "markdown",
   "source": "While Döngüsü",
   "id": "9dfdb69d470b9702"
  },
  {
   "metadata": {},
   "cell_type": "code",
   "outputs": [],
   "execution_count": null,
   "source": "",
   "id": "569192317b3e03c1"
  },
  {
   "metadata": {},
   "cell_type": "markdown",
   "source": "",
   "id": "d7b59b36319d6fcb"
  }
 ],
 "metadata": {
  "kernelspec": {
   "display_name": "Python 3",
   "language": "python",
   "name": "python3"
  },
  "language_info": {
   "codemirror_mode": {
    "name": "ipython",
    "version": 2
   },
   "file_extension": ".py",
   "mimetype": "text/x-python",
   "name": "python",
   "nbconvert_exporter": "python",
   "pygments_lexer": "ipython2",
   "version": "2.7.6"
  }
 },
 "nbformat": 4,
 "nbformat_minor": 5
}
